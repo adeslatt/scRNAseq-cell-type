{
 "cells": [
  {
   "cell_type": "markdown",
   "id": "d5a552b5-54ac-4666-9349-67630cf85284",
   "metadata": {},
   "source": [
    "---\n",
    "PBMCs Example:\n",
    "\n",
    "Getting MLE/Bayes? probability estimates for the 4 cell types, CD4, CD8, CD14, and NK cells.\n",
    "\n",
    "These PEs are the dataset barcodes -- basically giving a distribution in each of the different cell types for all the genes in the cell?\n"
   ]
  },
  {
   "cell_type": "code",
   "execution_count": 1,
   "id": "51166eb5-c364-4496-9957-218966ef3e8b",
   "metadata": {},
   "outputs": [],
   "source": [
    "# Enter commands in R -- no need to run if they are already installed\n",
    "install.packages('curl', repos = c('https://jeroen.r-universe.dev', 'https://cloud.r-project.org'))\n",
    "install.packages(\"httr2\")\n",
    "install.packages('sads')\n",
    "install.packages('Seurat')\n"
   ]
  },
  {
   "cell_type": "code",
   "execution_count": 11,
   "id": "0d3e5ca3-74e2-4a9a-b859-99700294d6fd",
   "metadata": {},
   "outputs": [
    {
     "name": "stderr",
     "output_type": "stream",
     "text": [
      "Updating HTML index of packages in '.Library'\n",
      "\n",
      "Making 'packages.html' ...\n",
      " done\n",
      "\n",
      "'getOption(\"repos\")' replaces Bioconductor standard repositories, see\n",
      "'help(\"repositories\", package = \"BiocManager\")' for details.\n",
      "Replacement repositories:\n",
      "    CRAN: https://cran.r-project.org\n",
      "\n",
      "Bioconductor version 3.20 (BiocManager 1.30.25), R 4.4.1 (2024-06-14)\n",
      "\n",
      "Installing package(s) 'BiocVersion', 'UCSC.utils'\n",
      "\n",
      "also installing the dependencies ‘sys’, ‘askpass’, ‘curl’, ‘mime’, ‘openssl’, ‘R6’, ‘BiocGenerics’, ‘httr’, ‘S4Vectors’\n",
      "\n",
      "\n",
      "Updating HTML index of packages in '.Library'\n",
      "\n",
      "Making 'packages.html' ...\n",
      " done\n",
      "\n",
      "'getOption(\"repos\")' replaces Bioconductor standard repositories, see\n",
      "'help(\"repositories\", package = \"BiocManager\")' for details.\n",
      "Replacement repositories:\n",
      "    CRAN: https://cran.r-project.org\n",
      "\n",
      "Bioconductor version 3.20 (BiocManager 1.30.25), R 4.4.1 (2024-06-14)\n",
      "\n",
      "Installing package(s) 'KEGGREST'\n",
      "\n",
      "also installing the dependencies ‘zlibbioc’, ‘GenomeInfoDbData’, ‘IRanges’, ‘XVector’, ‘GenomeInfoDb’, ‘png’, ‘Biostrings’\n",
      "\n",
      "\n",
      "Updating HTML index of packages in '.Library'\n",
      "\n",
      "Making 'packages.html' ...\n",
      " done\n",
      "\n",
      "'getOption(\"repos\")' replaces Bioconductor standard repositories, see\n",
      "'help(\"repositories\", package = \"BiocManager\")' for details.\n",
      "Replacement repositories:\n",
      "    CRAN: https://cran.r-project.org\n",
      "\n",
      "Bioconductor version 3.20 (BiocManager 1.30.25), R 4.4.1 (2024-06-14)\n",
      "\n",
      "Warning message:\n",
      "“package(s) not installed when version(s) same as or greater than current; use\n",
      "  `force = TRUE` to re-install: 'GenomeInfoDb'”\n",
      "'getOption(\"repos\")' replaces Bioconductor standard repositories, see\n",
      "'help(\"repositories\", package = \"BiocManager\")' for details.\n",
      "Replacement repositories:\n",
      "    CRAN: https://cran.r-project.org\n",
      "\n",
      "Bioconductor version 3.20 (BiocManager 1.30.25), R 4.4.1 (2024-06-14)\n",
      "\n",
      "Installing package(s) 'AnnotationDbi'\n",
      "\n",
      "also installing the dependencies ‘bit’, ‘cachem’, ‘bit64’, ‘blob’, ‘memoise’, ‘pkgconfig’, ‘plogr’, ‘cpp11’, ‘Biobase’, ‘DBI’, ‘RSQLite’\n",
      "\n",
      "\n",
      "Updating HTML index of packages in '.Library'\n",
      "\n",
      "Making 'packages.html' ...\n",
      " done\n",
      "\n",
      "'getOption(\"repos\")' replaces Bioconductor standard repositories, see\n",
      "'help(\"repositories\", package = \"BiocManager\")' for details.\n",
      "Replacement repositories:\n",
      "    CRAN: https://cran.r-project.org\n",
      "\n",
      "Bioconductor version 3.20 (BiocManager 1.30.25), R 4.4.1 (2024-06-14)\n",
      "\n",
      "Installing package(s) 'org.Hs.eg.db'\n",
      "\n",
      "Updating HTML index of packages in '.Library'\n",
      "\n",
      "Making 'packages.html' ...\n",
      " done\n",
      "\n",
      "'getOption(\"repos\")' replaces Bioconductor standard repositories, see\n",
      "'help(\"repositories\", package = \"BiocManager\")' for details.\n",
      "Replacement repositories:\n",
      "    CRAN: https://cran.r-project.org\n",
      "\n",
      "Bioconductor version 3.20 (BiocManager 1.30.25), R 4.4.1 (2024-06-14)\n",
      "\n",
      "Installing package(s) 'BiocParallel'\n",
      "\n",
      "also installing the dependencies ‘formatR’, ‘lambda.r’, ‘futile.options’, ‘futile.logger’, ‘snow’, ‘codetools’, ‘BH’\n",
      "\n",
      "\n",
      "Updating HTML index of packages in '.Library'\n",
      "\n",
      "Making 'packages.html' ...\n",
      " done\n",
      "\n"
     ]
    }
   ],
   "source": [
    "if (!require(\"BiocManager\", quietly = TRUE))\n",
    "    install.packages(\"BiocManager\")\n",
    "\n",
    "BiocManager::install(\"UCSC.utils\")\n",
    "BiocManager::install(\"KEGGREST\")\n",
    "BiocManager::install(\"GenomeInfoDb\")\n",
    "BiocManager::install(\"AnnotationDbi\")\n",
    "BiocManager::install(\"org.Hs.eg.db\")\n",
    "BiocManager::install(\"BiocParallel\")"
   ]
  },
  {
   "cell_type": "code",
   "execution_count": 10,
   "id": "2a668315",
   "metadata": {
    "echo": true,
    "message": false,
    "warning": false
   },
   "outputs": [
    {
     "ename": "ERROR",
     "evalue": "Error in library(org.Hs.eg.db): there is no package called ‘org.Hs.eg.db’\n",
     "output_type": "error",
     "traceback": [
      "Error in library(org.Hs.eg.db): there is no package called ‘org.Hs.eg.db’\nTraceback:\n",
      "1. stop(packageNotFoundError(package, lib.loc, sys.call()))"
     ]
    }
   ],
   "source": [
    "library(org.Hs.eg.db)\n",
    "library(Seurat)\n",
    "setwd('../../original/')\n",
    "source('cell_type_identification4_clean.R')"
   ]
  },
  {
   "cell_type": "markdown",
   "id": "27d22208",
   "metadata": {},
   "source": [
    "We start by reading in our training data, which is downloaded from 10X Genomics: CD4, CD8, CD14, and NK cells. For the purposes of this example, we will withhold 100 cells of each to serve as test data. After loading in the data, we convert the gene symbols to Ensembl IDs (required)."
   ]
  },
  {
   "cell_type": "code",
   "execution_count": 1,
   "id": "5eeaf052-1ec5-464c-b322-22d2d4ecb63e",
   "metadata": {},
   "outputs": [
    {
     "data": {
      "text/html": [
       "'/Users/annedeslattesmays/Scitechcon Dropbox/Anne DeslattesMays/projects/scRNAseq-cell-type/docs/ipynb'"
      ],
      "text/latex": [
       "'/Users/annedeslattesmays/Scitechcon Dropbox/Anne DeslattesMays/projects/scRNAseq-cell-type/docs/ipynb'"
      ],
      "text/markdown": [
       "'/Users/annedeslattesmays/Scitechcon Dropbox/Anne DeslattesMays/projects/scRNAseq-cell-type/docs/ipynb'"
      ],
      "text/plain": [
       "[1] \"/Users/annedeslattesmays/Scitechcon Dropbox/Anne DeslattesMays/projects/scRNAseq-cell-type/docs/ipynb\""
      ]
     },
     "metadata": {},
     "output_type": "display_data"
    },
    {
     "data": {
      "text/html": [
       "'/Users/annedeslattesmays/Scitechcon Dropbox/Anne DeslattesMays/projects/scRNAseq-cell-type/docs'"
      ],
      "text/latex": [
       "'/Users/annedeslattesmays/Scitechcon Dropbox/Anne DeslattesMays/projects/scRNAseq-cell-type/docs'"
      ],
      "text/markdown": [
       "'/Users/annedeslattesmays/Scitechcon Dropbox/Anne DeslattesMays/projects/scRNAseq-cell-type/docs'"
      ],
      "text/plain": [
       "[1] \"/Users/annedeslattesmays/Scitechcon Dropbox/Anne DeslattesMays/projects/scRNAseq-cell-type/docs\""
      ]
     },
     "metadata": {},
     "output_type": "display_data"
    },
    {
     "data": {
      "text/html": [
       "'/Users/annedeslattesmays/Scitechcon Dropbox/Anne DeslattesMays/projects/scRNAseq-cell-type/docs/data'"
      ],
      "text/latex": [
       "'/Users/annedeslattesmays/Scitechcon Dropbox/Anne DeslattesMays/projects/scRNAseq-cell-type/docs/data'"
      ],
      "text/markdown": [
       "'/Users/annedeslattesmays/Scitechcon Dropbox/Anne DeslattesMays/projects/scRNAseq-cell-type/docs/data'"
      ],
      "text/plain": [
       "[1] \"/Users/annedeslattesmays/Scitechcon Dropbox/Anne DeslattesMays/projects/scRNAseq-cell-type/docs/data\""
      ]
     },
     "metadata": {},
     "output_type": "display_data"
    }
   ],
   "source": [
    "getwd()\n",
    "setwd(\"..\")\n",
    "getwd()\n",
    "system(\"mkdir data\")\n",
    "setwd(\"data\")\n",
    "getwd()"
   ]
  },
  {
   "cell_type": "markdown",
   "id": "7d6a9273-154a-4876-b057-4fcb2fadafa2",
   "metadata": {},
   "source": [
    "the data for these next steps are found at the https sites and all were used with the filtered matrices.  The steps are:\n",
    "\n",
    "1. wget the location\n",
    "2. tar xvfz to unpack the data\n",
    "3. rename the location to match the code below \n"
   ]
  },
  {
   "cell_type": "code",
   "execution_count": 2,
   "id": "899f92a5-ef0d-4b15-80b2-7168789475f1",
   "metadata": {},
   "outputs": [],
   "source": [
    "## CD4: https://support.10xgenomics.com/single-cell-gene-expression/datasets/1.1.0/cd4_t_helper?  \n",
    "system (\"wget https://cf.10xgenomics.com/samples/cell-exp/1.1.0/cd4_t_helper/cd4_t_helper_filtered_gene_bc_matrices.tar.gz\")\n",
    "system (\"tar xvfz cd4_t_helper_filtered_gene_bc_matrices.tar.gz\")\n",
    "system (\"mv filtered_matrices_mex cd4_singlecell\")"
   ]
  },
  {
   "cell_type": "code",
   "execution_count": 3,
   "id": "88f5015f-480f-428a-bd2e-f537960ce4fd",
   "metadata": {},
   "outputs": [],
   "source": [
    "## CD8: https://support.10xgenomics.com/single-cell-gene-expression/datasets/1.1.0/cytotoxic_t\n",
    "system (\"wget https://cf.10xgenomics.com/samples/cell-exp/1.1.0/cytotoxic_t/cytotoxic_t_filtered_gene_bc_matrices.tar.gz\")\n",
    "system (\"tar xvfz cytotoxic_t_filtered_gene_bc_matrices.tar.gz\")\n",
    "system (\"mv filtered_matrices_mex filtered_matrices_cd8\")"
   ]
  },
  {
   "cell_type": "code",
   "execution_count": 4,
   "id": "9e9ba69c-ab2c-4ee3-9243-d1874a89dc24",
   "metadata": {},
   "outputs": [],
   "source": [
    "## CD14: https://support.10xgenomics.com/single-cell-gene-expression/datasets/1.1.0/cd14_monocytes\n",
    "system (\"wget https://cf.10xgenomics.com/samples/cell-exp/1.1.0/cd14_monocytes/cd14_monocytes_filtered_gene_bc_matrices.tar.gz\")\n",
    "system (\"tar xvfz cd14_monocytes_filtered_gene_bc_matrices.tar.gz\")\n",
    "system (\"mv filtered_matrices_mex filtered_matrices_cd14\")"
   ]
  },
  {
   "cell_type": "code",
   "execution_count": 5,
   "id": "233e8812-0f61-4eff-877b-f7c5ee2324fa",
   "metadata": {},
   "outputs": [],
   "source": [
    "## NK: https://support.10xgenomics.com/single-cell-gene-expression/datasets/1.1.0/cd56_nk\n",
    "system (\"wget https://cf.10xgenomics.com/samples/cell-exp/1.1.0/cd56_nk/cd56_nk_filtered_gene_bc_matrices.tar.gz\")\n",
    "system (\"tar xvfz cd56_nk_filtered_gene_bc_matrices.tar.gz\")\n",
    "system (\"mv filtered_matrices_mex filtered_matrices_nk\")"
   ]
  },
  {
   "cell_type": "code",
   "execution_count": 6,
   "id": "a9b9edbb-cdba-4f99-87d8-9173f239c59d",
   "metadata": {},
   "outputs": [],
   "source": [
    "## clean up tar.gz files\n",
    "system (\"rm *.gz\")\n"
   ]
  },
  {
   "cell_type": "code",
   "execution_count": 7,
   "id": "8f5ad70f-081d-46b2-97c7-887fdf97ada5",
   "metadata": {},
   "outputs": [
    {
     "ename": "ERROR",
     "evalue": "Error in setwd(\"original\"): cannot change working directory\n",
     "output_type": "error",
     "traceback": [
      "Error in setwd(\"original\"): cannot change working directory\nTraceback:\n",
      "1. .handleSimpleError(function (cnd) \n . {\n .     watcher$capture_plot_and_output()\n .     cnd <- sanitize_call(cnd)\n .     watcher$push(cnd)\n .     switch(on_error, continue = invokeRestart(\"eval_continue\"), \n .         stop = invokeRestart(\"eval_stop\"), error = invokeRestart(\"eval_error\", \n .             cnd))\n . }, \"cannot change working directory\", base::quote(setwd(\"original\")))"
     ]
    }
   ],
   "source": [
    "## mv back to original directory where R code is\n",
    "setwd(\"original\")\n"
   ]
  },
  {
   "cell_type": "code",
   "execution_count": 8,
   "id": "36544c71-19fc-47cd-98a2-071f703fc7de",
   "metadata": {},
   "outputs": [
    {
     "data": {
      "text/html": [
       "'/Users/annedeslattesmays/Scitechcon Dropbox/Anne DeslattesMays/projects/scRNAseq-cell-type/docs/data'"
      ],
      "text/latex": [
       "'/Users/annedeslattesmays/Scitechcon Dropbox/Anne DeslattesMays/projects/scRNAseq-cell-type/docs/data'"
      ],
      "text/markdown": [
       "'/Users/annedeslattesmays/Scitechcon Dropbox/Anne DeslattesMays/projects/scRNAseq-cell-type/docs/data'"
      ],
      "text/plain": [
       "[1] \"/Users/annedeslattesmays/Scitechcon Dropbox/Anne DeslattesMays/projects/scRNAseq-cell-type/docs/data\""
      ]
     },
     "metadata": {},
     "output_type": "display_data"
    }
   ],
   "source": [
    "getwd()"
   ]
  },
  {
   "cell_type": "code",
   "execution_count": 9,
   "id": "8bfacf8a",
   "metadata": {
    "echo": true,
    "message": false,
    "warning": false
   },
   "outputs": [
    {
     "ename": "ERROR",
     "evalue": "Error: object 'org.Hs.egSYMBOL' not found\n",
     "output_type": "error",
     "traceback": [
      "Error: object 'org.Hs.egSYMBOL' not found\nTraceback:\n"
     ]
    }
   ],
   "source": [
    "set.seed(6619)\n",
    "\n",
    "### Preparation for symbol->ENSEMBL conversion\n",
    "Hs_symbol <- org.Hs.egSYMBOL\n",
    "mapped_Hs_genes.symbol <- mappedkeys(Hs_symbol)\n",
    "Hs_symbol.df <- as.data.frame(Hs_symbol[mapped_Hs_genes.symbol])\n",
    "Hs_ensembl <- org.Hs.egENSEMBL\n",
    "mapped_Hs_genes.ensembl <- mappedkeys(Hs_ensembl)\n",
    "Hs_ensembl.df <- as.data.frame(Hs_ensembl[mapped_Hs_genes.ensembl])\n",
    "Hs_mapping <- merge(Hs_symbol.df,Hs_ensembl.df)\n",
    "\n",
    "## CD4: https://support.10xgenomics.com/single-cell-gene-expression/datasets/1.1.0/cd4_t_helper? \n",
    "cd4_facs.data <- Read10X(data.dir = \"../cd4_singlecell/hg19/\") \n",
    "cd4_facs.data <- as.matrix(cd4_facs.data)\n",
    "rownames(cd4_facs.data) <- Hs_mapping$ensembl_id[match(rownames(cd4_facs.data),\n",
    "                                                       Hs_mapping$symbol)]\n",
    "cd4_facs.data <- cd4_facs.data[!is.na(rownames(cd4_facs.data)),]\n",
    "cd4_facs.data <- na.omit(cd4_facs.data)\n",
    "cd4.test <- cd4_facs.data[,1:100] # CD4 withheld cells\n",
    "cd4_facs.data <- cd4_facs.data[,101:5101] # CD4 training cells\n",
    "\n",
    "## CD8: https://support.10xgenomics.com/single-cell-gene-expression/datasets/1.1.0/cytotoxic_t\n",
    "cd8_facs.data <- Read10X(data.dir = '../filtered_matrices_cd8/hg19/')\n",
    "cd8_facs.data <- as.matrix(cd8_facs.data) \n",
    "rownames(cd8_facs.data) <- Hs_mapping$ensembl_id[match(rownames(cd8_facs.data),\n",
    "                                                       Hs_mapping$symbol)]\n",
    "cd8_facs.data <- cd8_facs.data[!is.na(rownames(cd8_facs.data)),]\n",
    "cd8.test <- cd8_facs.data[,1:100] # CD8 withheld cells\n",
    "cd8_facs.data <- cd8_facs.data[,101:5101] # CD8 training cells\n",
    "\n",
    "## CD14: https://support.10xgenomics.com/single-cell-gene-expression/datasets/1.1.0/cd14_monocytes\n",
    "cd14_facs.data <- Read10X(data.dir = '../filtered_matrices_cd14/hg19/')\n",
    "cd14_facs.data <- as.matrix(cd14_facs.data)\n",
    "rownames(cd14_facs.data) <- Hs_mapping$ensembl_id[match(rownames(cd14_facs.data),\n",
    "                                                        Hs_mapping$symbol)]\n",
    "cd14_facs.data <- cd14_facs.data[!is.na(rownames(cd14_facs.data)),]\n",
    "cd14.test <- cd14_facs.data[,1:100] # CD14 withheld cells\n",
    "cd14_facs.data <- cd14_facs.data[,101:ncol(cd14_facs.data)] # CD14 training cells\n",
    "\n",
    "## NK: https://support.10xgenomics.com/single-cell-gene-expression/datasets/1.1.0/cd56_nk\n",
    "nk_facs.data <- Read10X(data.dir = '../filtered_matrices_nk/hg19/')\n",
    "nk_facs.data <- as.matrix(nk_facs.data)\n",
    "rownames(nk_facs.data) <- Hs_mapping$ensembl_id[match(rownames(nk_facs.data),\n",
    "                                                      Hs_mapping$symbol)]\n",
    "nk_facs.data <- nk_facs.data[!is.na(rownames(nk_facs.data)),]\n",
    "nk.test <- nk_facs.data[,1:100] # NK withheld cells\n",
    "nk_facs.data <- nk_facs.data[,101:5101] # NK training cells"
   ]
  },
  {
   "cell_type": "markdown",
   "id": "018ee0bd",
   "metadata": {},
   "source": [
    "Next, we fit our model to these training data. We combine the training data into a single matrix and call the `trainAllReference` function on this matrix, alongside a vector of cell-type labels. By default, this function will only consider the subset of discriminative genes needed for classification. For now, to illustrate the uses of our method additional to classification, we will consider all genes by setting `discrim_only=FALSE`. (Note that regardless of whether this parameter is set to `TRUE`, as it is by default, or `FALSE`, the classification function will still only use the subset of discriminative genes; setting this parameter to `TRUE` just has the effect of speeding up the training process by only fitting to that set of genes.)"
   ]
  },
  {
   "cell_type": "code",
   "execution_count": null,
   "id": "a4008102",
   "metadata": {
    "echo": true,
    "message": false,
    "warning": false
   },
   "outputs": [],
   "source": [
    "## Input a single matrix with a vector of labels \n",
    "common_pbmcs_genes <- Reduce(intersect,list(rownames(cd4_facs.data),\n",
    "                                            rownames(cd14_facs.data),\n",
    "                                            rownames(cd8_facs.data),\n",
    "                                            rownames(nk_facs.data)))\n",
    "pbmcs_reference <- as.matrix(cbind(cd4_facs.data[common_pbmcs_genes,],\n",
    "                                   cd14_facs.data[common_pbmcs_genes,],\n",
    "                                   cd8_facs.data[common_pbmcs_genes,],\n",
    "                                   nk_facs.data[common_pbmcs_genes,]))\n",
    "pbmcs_reference_labels <- c(rep('CD4',dim(cd4_facs.data)[2]),rep('CD14',dim(cd14_facs.data)[2]),\n",
    "                            rep('CD8',dim(cd8_facs.data)[2]),rep('NK',dim(nk_facs.data)[2]))\n",
    "pbmcs.d <- trainAllReference(pbmcs_reference,pbmcs_reference_labels,discrim_only=FALSE)"
   ]
  },
  {
   "cell_type": "markdown",
   "id": "02a81240",
   "metadata": {},
   "source": [
    "The list `pbmcs.d` contains one table for each inputted cell-type, which indicates each gene's empirical rate, probability of belonging to the off-low latent state, and probability of belonging to the off-high latent state. This is used as input into the `classifyTarget` function. However, if our goal is to examine each cell-type's barcode, we could pass this list into the `getBarcode` function, which will present the probability that each gene is on in each cell-type. This could then be used beyond the cell-type annotation context to study gene expression within a single cell-type, to compare genes across cell-types, and to identify markers. \n",
    "\n",
    "As an example, we show below how we can find the barcodes for each cell-type, then identify genes with a high probability of being on in NK cells, but a low probability of being on in the others (i.e. potential markers for this cell-type). Finally, we show how we can identify markers for NK cells compared to global patterns of gene expression, rather than the other cell-types under consideration here."
   ]
  },
  {
   "cell_type": "code",
   "execution_count": null,
   "id": "7cbbf429",
   "metadata": {
    "echo": true,
    "message": false,
    "warning": false
   },
   "outputs": [],
   "source": [
    "\n",
    "## Obtain barcodes\n",
    "barcodes <- getBarcode(pbmcs.d)\n",
    "\n",
    "## Identify genes likely to be on in NK cells, but likely to be off in the others\n",
    "findMarkers('NK',barcodes,thresh_up=0.95,thresh_below=0.05)\n",
    "\n",
    "## Identify genes likely to be on in NK cells, and not in global patterns \n",
    "findMarkers('NK',barcodes,thresh_up=0.99,thresh_below=0.01,relative=F)"
   ]
  },
  {
   "cell_type": "markdown",
   "id": "2fd2c11d",
   "metadata": {},
   "source": [
    "Finally, we can use the original object `pbmcs.d` to annotate our withheld test cells, which should be placed in a single matrix. If we want the possibility of detecting cells that do not belong to any of the cell-types in the reference, we can set `other=T`. Further, we can specify `return.probs=T` if we want a matrix of probabilistic assignments rather than just a vector of highest-probability cell-type labels. We show both below:"
   ]
  },
  {
   "cell_type": "code",
   "execution_count": null,
   "id": "7c6c55a9",
   "metadata": {
    "echo": true,
    "message": false,
    "warning": false
   },
   "outputs": [],
   "source": [
    "## Put withheld test cells in one matrix\n",
    "pbmcs_withheld <- as.matrix(cbind(cd4.test[common_pbmcs_genes,],\n",
    "                                  cd14.test[common_pbmcs_genes,],\n",
    "                                    cd8.test[common_pbmcs_genes,],\n",
    "                                  nk.test[common_pbmcs_genes,]))\n",
    "true_labels <- c(rep('CD4',100),rep('CD14',100),rep('CD8',100),rep('NK',100))\n",
    "\n",
    "## Annotate!\n",
    "annotation <- classifyTarget(pbmcs_withheld,pbmcs.d,other=T)\n",
    "table(annotation,true_labels)\n",
    "\n",
    "## Return probabilistic assignments instead\n",
    "probabilistic_annotation <- classifyTarget(pbmcs_withheld,pbmcs.d,other=T,\n",
    "                                           return.probs=T)\n",
    "head(round(probabilistic_annotation,2))"
   ]
  },
  {
   "cell_type": "code",
   "execution_count": null,
   "id": "9d6da391-de60-4b1e-9c64-33a6cb9fc279",
   "metadata": {},
   "outputs": [],
   "source": [
    "dim(barcodes) \n",
    "head(barcodes,10)\n"
   ]
  },
  {
   "cell_type": "code",
   "execution_count": null,
   "id": "941a10a0-a454-40bb-b04c-83185149a856",
   "metadata": {},
   "outputs": [],
   "source": []
  }
 ],
 "metadata": {
  "jupytext": {
   "cell_metadata_filter": "message,warning,echo,-all",
   "main_language": "R",
   "notebook_metadata_filter": "-all"
  },
  "kernelspec": {
   "display_name": "R",
   "language": "R",
   "name": "ir"
  },
  "language_info": {
   "codemirror_mode": "r",
   "file_extension": ".r",
   "mimetype": "text/x-r-source",
   "name": "R",
   "pygments_lexer": "r",
   "version": "4.4.1"
  }
 },
 "nbformat": 4,
 "nbformat_minor": 5
}
