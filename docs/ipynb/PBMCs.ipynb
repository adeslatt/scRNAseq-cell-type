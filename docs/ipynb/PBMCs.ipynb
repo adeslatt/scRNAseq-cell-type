{
 "cells": [
  {
   "cell_type": "markdown",
   "id": "d5a552b5-54ac-4666-9349-67630cf85284",
   "metadata": {},
   "source": [
    "---\n",
    "PBMCs Example:\n",
    "\n",
    "Getting MLE/Bayes? probability estimates for the 4 cell types, CD4, CD8, CD14, and NK cells.\n",
    "\n",
    "These PEs are the dataset barcodes -- basically giving a distribution in each of the different cell types for all the genes in the cell?\n"
   ]
  },
  {
   "cell_type": "code",
   "execution_count": 1,
   "id": "51166eb5-c364-4496-9957-218966ef3e8b",
   "metadata": {},
   "outputs": [],
   "source": [
    "# Enter commands in R -- no need to run if they are already installed\n",
    "#install.packages('curl', repos = c('https://jeroen.r-universe.dev', 'https://cloud.r-project.org'))\n",
    "#install.packages(\"httr2\")\n",
    "# on the mac make sure you have nlopt installed needed by the sads package\n",
    "# which is needed by Seurat\n",
    "# brew install nlopt and then install the r package\n",
    "#install.packages(\"nloptr\")\n",
    "#install.packages(\"Rcpp\")\n",
    "# Rcpp is needed by the GUILDS package \n",
    "#install.packages(\"GUILDS\")\n",
    "#install.packages(\"sads\", repos = \"https://cloud.r-project.org/\")\n",
    "#install.packages('Seurat')"
   ]
  },
  {
   "cell_type": "code",
   "execution_count": 2,
   "id": "0d3e5ca3-74e2-4a9a-b859-99700294d6fd",
   "metadata": {},
   "outputs": [
    {
     "name": "stderr",
     "output_type": "stream",
     "text": [
      "'getOption(\"repos\")' replaces Bioconductor standard repositories, see\n",
      "'help(\"repositories\", package = \"BiocManager\")' for details.\n",
      "Replacement repositories:\n",
      "    CRAN: https://cran.r-project.org\n",
      "\n",
      "Bioconductor version 3.20 (BiocManager 1.30.25), R 4.4.1 (2024-06-14)\n",
      "\n",
      "Warning message:\n",
      "“package(s) not installed when version(s) same as or greater than current; use\n",
      "  `force = TRUE` to re-install: 'UCSC.utils'”\n",
      "Old packages: 'bit', 'cpp11', 'RSQLite'\n",
      "\n",
      "'getOption(\"repos\")' replaces Bioconductor standard repositories, see\n",
      "'help(\"repositories\", package = \"BiocManager\")' for details.\n",
      "Replacement repositories:\n",
      "    CRAN: https://cran.r-project.org\n",
      "\n",
      "Bioconductor version 3.20 (BiocManager 1.30.25), R 4.4.1 (2024-06-14)\n",
      "\n",
      "Warning message:\n",
      "“package(s) not installed when version(s) same as or greater than current; use\n",
      "  `force = TRUE` to re-install: 'KEGGREST'”\n",
      "Old packages: 'bit', 'cpp11', 'RSQLite'\n",
      "\n",
      "'getOption(\"repos\")' replaces Bioconductor standard repositories, see\n",
      "'help(\"repositories\", package = \"BiocManager\")' for details.\n",
      "Replacement repositories:\n",
      "    CRAN: https://cran.r-project.org\n",
      "\n",
      "Bioconductor version 3.20 (BiocManager 1.30.25), R 4.4.1 (2024-06-14)\n",
      "\n",
      "Warning message:\n",
      "“package(s) not installed when version(s) same as or greater than current; use\n",
      "  `force = TRUE` to re-install: 'GenomeInfoDb'”\n",
      "Old packages: 'bit', 'cpp11', 'RSQLite'\n",
      "\n",
      "'getOption(\"repos\")' replaces Bioconductor standard repositories, see\n",
      "'help(\"repositories\", package = \"BiocManager\")' for details.\n",
      "Replacement repositories:\n",
      "    CRAN: https://cran.r-project.org\n",
      "\n",
      "Bioconductor version 3.20 (BiocManager 1.30.25), R 4.4.1 (2024-06-14)\n",
      "\n",
      "Warning message:\n",
      "“package(s) not installed when version(s) same as or greater than current; use\n",
      "  `force = TRUE` to re-install: 'AnnotationDbi'”\n",
      "Old packages: 'bit', 'cpp11', 'RSQLite'\n",
      "\n",
      "'getOption(\"repos\")' replaces Bioconductor standard repositories, see\n",
      "'help(\"repositories\", package = \"BiocManager\")' for details.\n",
      "Replacement repositories:\n",
      "    CRAN: https://cran.r-project.org\n",
      "\n",
      "Bioconductor version 3.20 (BiocManager 1.30.25), R 4.4.1 (2024-06-14)\n",
      "\n",
      "Warning message:\n",
      "“package(s) not installed when version(s) same as or greater than current; use\n",
      "  `force = TRUE` to re-install: 'org.Hs.eg.db'”\n",
      "Old packages: 'bit', 'cpp11', 'RSQLite'\n",
      "\n",
      "'getOption(\"repos\")' replaces Bioconductor standard repositories, see\n",
      "'help(\"repositories\", package = \"BiocManager\")' for details.\n",
      "Replacement repositories:\n",
      "    CRAN: https://cran.r-project.org\n",
      "\n",
      "Bioconductor version 3.20 (BiocManager 1.30.25), R 4.4.1 (2024-06-14)\n",
      "\n",
      "Warning message:\n",
      "“package(s) not installed when version(s) same as or greater than current; use\n",
      "  `force = TRUE` to re-install: 'BiocParallel'”\n",
      "Old packages: 'bit', 'cpp11', 'RSQLite'\n",
      "\n"
     ]
    }
   ],
   "source": [
    "if (!require(\"BiocManager\", quietly = TRUE))\n",
    "    install.packages(\"BiocManager\")\n",
    "\n",
    "BiocManager::install(\"UCSC.utils\")\n",
    "BiocManager::install(\"KEGGREST\")\n",
    "BiocManager::install(\"GenomeInfoDb\")\n",
    "BiocManager::install(\"AnnotationDbi\")\n",
    "BiocManager::install(\"org.Hs.eg.db\")\n",
    "BiocManager::install(\"BiocParallel\")"
   ]
  },
  {
   "cell_type": "code",
   "execution_count": 3,
   "id": "f72b354c-b5ba-4f92-abe7-a335e93215c5",
   "metadata": {},
   "outputs": [
    {
     "name": "stderr",
     "output_type": "stream",
     "text": [
      "Loading required package: stats4\n",
      "\n",
      "Loading required package: bbmle\n",
      "\n"
     ]
    }
   ],
   "source": [
    "library(sads)"
   ]
  },
  {
   "cell_type": "code",
   "execution_count": 4,
   "id": "2a668315",
   "metadata": {
    "echo": true,
    "message": false,
    "warning": false
   },
   "outputs": [
    {
     "name": "stderr",
     "output_type": "stream",
     "text": [
      "Loading required package: AnnotationDbi\n",
      "\n",
      "Loading required package: BiocGenerics\n",
      "\n",
      "\n",
      "Attaching package: ‘BiocGenerics’\n",
      "\n",
      "\n",
      "The following objects are masked from ‘package:stats’:\n",
      "\n",
      "    IQR, mad, sd, var, xtabs\n",
      "\n",
      "\n",
      "The following objects are masked from ‘package:base’:\n",
      "\n",
      "    anyDuplicated, aperm, append, as.data.frame, basename, cbind,\n",
      "    colnames, dirname, do.call, duplicated, eval, evalq, Filter, Find,\n",
      "    get, grep, grepl, intersect, is.unsorted, lapply, Map, mapply,\n",
      "    match, mget, order, paste, pmax, pmax.int, pmin, pmin.int,\n",
      "    Position, rank, rbind, Reduce, rownames, sapply, saveRDS, setdiff,\n",
      "    table, tapply, union, unique, unsplit, which.max, which.min\n",
      "\n",
      "\n",
      "Loading required package: Biobase\n",
      "\n",
      "Welcome to Bioconductor\n",
      "\n",
      "    Vignettes contain introductory material; view with\n",
      "    'browseVignettes()'. To cite Bioconductor, see\n",
      "    'citation(\"Biobase\")', and for packages 'citation(\"pkgname\")'.\n",
      "\n",
      "\n",
      "Loading required package: IRanges\n",
      "\n",
      "Loading required package: S4Vectors\n",
      "\n",
      "\n",
      "Attaching package: ‘S4Vectors’\n",
      "\n",
      "\n",
      "The following object is masked from ‘package:utils’:\n",
      "\n",
      "    findMatches\n",
      "\n",
      "\n",
      "The following objects are masked from ‘package:base’:\n",
      "\n",
      "    expand.grid, I, unname\n",
      "\n",
      "\n",
      "\n",
      "Attaching package: ‘IRanges’\n",
      "\n",
      "\n",
      "The following object is masked from ‘package:bbmle’:\n",
      "\n",
      "    slice\n",
      "\n",
      "\n",
      "\n",
      "\n",
      "Loading required package: SeuratObject\n",
      "\n",
      "Loading required package: sp\n",
      "\n",
      "\n",
      "Attaching package: ‘sp’\n",
      "\n",
      "\n",
      "The following object is masked from ‘package:IRanges’:\n",
      "\n",
      "    %over%\n",
      "\n",
      "\n",
      "\n",
      "Attaching package: ‘SeuratObject’\n",
      "\n",
      "\n",
      "The following object is masked from ‘package:IRanges’:\n",
      "\n",
      "    intersect\n",
      "\n",
      "\n",
      "The following object is masked from ‘package:S4Vectors’:\n",
      "\n",
      "    intersect\n",
      "\n",
      "\n",
      "The following object is masked from ‘package:BiocGenerics’:\n",
      "\n",
      "    intersect\n",
      "\n",
      "\n",
      "The following objects are masked from ‘package:base’:\n",
      "\n",
      "    intersect, t\n",
      "\n",
      "\n"
     ]
    }
   ],
   "source": [
    "library(org.Hs.eg.db)\n",
    "library(Seurat)"
   ]
  },
  {
   "cell_type": "code",
   "execution_count": 5,
   "id": "625d66f3-8034-492f-8320-b125e1011ec5",
   "metadata": {},
   "outputs": [
    {
     "data": {
      "text/html": [
       "'/Users/annedeslattesmays/Scitechcon Dropbox/Anne DeslattesMays/projects/scRNAseq-cell-type/docs/ipynb'"
      ],
      "text/latex": [
       "'/Users/annedeslattesmays/Scitechcon Dropbox/Anne DeslattesMays/projects/scRNAseq-cell-type/docs/ipynb'"
      ],
      "text/markdown": [
       "'/Users/annedeslattesmays/Scitechcon Dropbox/Anne DeslattesMays/projects/scRNAseq-cell-type/docs/ipynb'"
      ],
      "text/plain": [
       "[1] \"/Users/annedeslattesmays/Scitechcon Dropbox/Anne DeslattesMays/projects/scRNAseq-cell-type/docs/ipynb\""
      ]
     },
     "metadata": {},
     "output_type": "display_data"
    }
   ],
   "source": [
    "getwd()"
   ]
  },
  {
   "cell_type": "code",
   "execution_count": 7,
   "id": "858e3cc4-242c-4028-adc1-8fa0cd5446c8",
   "metadata": {},
   "outputs": [],
   "source": [
    "setwd(\"../../original\")"
   ]
  },
  {
   "cell_type": "code",
   "execution_count": 8,
   "id": "9248dfd0-30b3-454b-a834-b95f003fecbb",
   "metadata": {},
   "outputs": [],
   "source": [
    "source (\"cell_type_identification4_clean.R\")"
   ]
  },
  {
   "cell_type": "markdown",
   "id": "27d22208",
   "metadata": {},
   "source": [
    "We start by reading in our training data, which is downloaded from 10X Genomics: CD4, CD8, CD14, and NK cells. For the purposes of this example, we will withhold 100 cells of each to serve as test data. After loading in the data, we convert the gene symbols to Ensembl IDs (required)."
   ]
  },
  {
   "cell_type": "code",
   "execution_count": 9,
   "id": "5eeaf052-1ec5-464c-b322-22d2d4ecb63e",
   "metadata": {},
   "outputs": [
    {
     "data": {
      "text/html": [
       "'/Users/annedeslattesmays/Scitechcon Dropbox/Anne DeslattesMays/projects/scRNAseq-cell-type/original'"
      ],
      "text/latex": [
       "'/Users/annedeslattesmays/Scitechcon Dropbox/Anne DeslattesMays/projects/scRNAseq-cell-type/original'"
      ],
      "text/markdown": [
       "'/Users/annedeslattesmays/Scitechcon Dropbox/Anne DeslattesMays/projects/scRNAseq-cell-type/original'"
      ],
      "text/plain": [
       "[1] \"/Users/annedeslattesmays/Scitechcon Dropbox/Anne DeslattesMays/projects/scRNAseq-cell-type/original\""
      ]
     },
     "metadata": {},
     "output_type": "display_data"
    },
    {
     "data": {
      "text/html": [
       "'/Users/annedeslattesmays/Scitechcon Dropbox/Anne DeslattesMays/projects/scRNAseq-cell-type'"
      ],
      "text/latex": [
       "'/Users/annedeslattesmays/Scitechcon Dropbox/Anne DeslattesMays/projects/scRNAseq-cell-type'"
      ],
      "text/markdown": [
       "'/Users/annedeslattesmays/Scitechcon Dropbox/Anne DeslattesMays/projects/scRNAseq-cell-type'"
      ],
      "text/plain": [
       "[1] \"/Users/annedeslattesmays/Scitechcon Dropbox/Anne DeslattesMays/projects/scRNAseq-cell-type\""
      ]
     },
     "metadata": {},
     "output_type": "display_data"
    },
    {
     "data": {
      "text/html": [
       "'/Users/annedeslattesmays/Scitechcon Dropbox/Anne DeslattesMays/projects/scRNAseq-cell-type/data'"
      ],
      "text/latex": [
       "'/Users/annedeslattesmays/Scitechcon Dropbox/Anne DeslattesMays/projects/scRNAseq-cell-type/data'"
      ],
      "text/markdown": [
       "'/Users/annedeslattesmays/Scitechcon Dropbox/Anne DeslattesMays/projects/scRNAseq-cell-type/data'"
      ],
      "text/plain": [
       "[1] \"/Users/annedeslattesmays/Scitechcon Dropbox/Anne DeslattesMays/projects/scRNAseq-cell-type/data\""
      ]
     },
     "metadata": {},
     "output_type": "display_data"
    }
   ],
   "source": [
    "getwd()\n",
    "setwd(\"..\")\n",
    "getwd()\n",
    "system(\"mkdir data\")\n",
    "setwd(\"data\")\n",
    "getwd()"
   ]
  },
  {
   "cell_type": "markdown",
   "id": "7d6a9273-154a-4876-b057-4fcb2fadafa2",
   "metadata": {},
   "source": [
    "the data for these next steps are found at the https sites and all were used with the filtered matrices.  The steps are:\n",
    "\n",
    "1. wget the location\n",
    "2. tar xvfz to unpack the data\n",
    "3. rename the location to match the code below \n"
   ]
  },
  {
   "cell_type": "code",
   "execution_count": 10,
   "id": "899f92a5-ef0d-4b15-80b2-7168789475f1",
   "metadata": {},
   "outputs": [],
   "source": [
    "## CD4: https://support.10xgenomics.com/single-cell-gene-expression/datasets/1.1.0/cd4_t_helper?  \n",
    "system (\"wget https://cf.10xgenomics.com/samples/cell-exp/1.1.0/cd4_t_helper/cd4_t_helper_filtered_gene_bc_matrices.tar.gz\")\n",
    "system (\"tar xvfz cd4_t_helper_filtered_gene_bc_matrices.tar.gz\")\n",
    "system (\"mv filtered_matrices_mex cd4_singlecell\")"
   ]
  },
  {
   "cell_type": "code",
   "execution_count": 11,
   "id": "88f5015f-480f-428a-bd2e-f537960ce4fd",
   "metadata": {},
   "outputs": [],
   "source": [
    "## CD8: https://support.10xgenomics.com/single-cell-gene-expression/datasets/1.1.0/cytotoxic_t\n",
    "system (\"wget https://cf.10xgenomics.com/samples/cell-exp/1.1.0/cytotoxic_t/cytotoxic_t_filtered_gene_bc_matrices.tar.gz\")\n",
    "system (\"tar xvfz cytotoxic_t_filtered_gene_bc_matrices.tar.gz\")\n",
    "system (\"mv filtered_matrices_mex filtered_matrices_cd8\")"
   ]
  },
  {
   "cell_type": "code",
   "execution_count": 12,
   "id": "9e9ba69c-ab2c-4ee3-9243-d1874a89dc24",
   "metadata": {},
   "outputs": [],
   "source": [
    "## CD14: https://support.10xgenomics.com/single-cell-gene-expression/datasets/1.1.0/cd14_monocytes\n",
    "system (\"wget https://cf.10xgenomics.com/samples/cell-exp/1.1.0/cd14_monocytes/cd14_monocytes_filtered_gene_bc_matrices.tar.gz\")\n",
    "system (\"tar xvfz cd14_monocytes_filtered_gene_bc_matrices.tar.gz\")\n",
    "system (\"mv filtered_matrices_mex filtered_matrices_cd14\")"
   ]
  },
  {
   "cell_type": "code",
   "execution_count": 13,
   "id": "233e8812-0f61-4eff-877b-f7c5ee2324fa",
   "metadata": {},
   "outputs": [],
   "source": [
    "## NK: https://support.10xgenomics.com/single-cell-gene-expression/datasets/1.1.0/cd56_nk\n",
    "system (\"wget https://cf.10xgenomics.com/samples/cell-exp/1.1.0/cd56_nk/cd56_nk_filtered_gene_bc_matrices.tar.gz\")\n",
    "system (\"tar xvfz cd56_nk_filtered_gene_bc_matrices.tar.gz\")\n",
    "system (\"mv filtered_matrices_mex filtered_matrices_nk\")"
   ]
  },
  {
   "cell_type": "code",
   "execution_count": 14,
   "id": "a9b9edbb-cdba-4f99-87d8-9173f239c59d",
   "metadata": {},
   "outputs": [],
   "source": [
    "## clean up tar.gz files\n",
    "system (\"rm *.gz\")\n"
   ]
  },
  {
   "cell_type": "code",
   "execution_count": 15,
   "id": "74be0385-3ef3-481d-86a8-9171d8f7fa3d",
   "metadata": {},
   "outputs": [
    {
     "data": {
      "text/html": [
       "'/Users/annedeslattesmays/Scitechcon Dropbox/Anne DeslattesMays/projects/scRNAseq-cell-type/data'"
      ],
      "text/latex": [
       "'/Users/annedeslattesmays/Scitechcon Dropbox/Anne DeslattesMays/projects/scRNAseq-cell-type/data'"
      ],
      "text/markdown": [
       "'/Users/annedeslattesmays/Scitechcon Dropbox/Anne DeslattesMays/projects/scRNAseq-cell-type/data'"
      ],
      "text/plain": [
       "[1] \"/Users/annedeslattesmays/Scitechcon Dropbox/Anne DeslattesMays/projects/scRNAseq-cell-type/data\""
      ]
     },
     "metadata": {},
     "output_type": "display_data"
    }
   ],
   "source": [
    "getwd()"
   ]
  },
  {
   "cell_type": "code",
   "execution_count": 16,
   "id": "8f5ad70f-081d-46b2-97c7-887fdf97ada5",
   "metadata": {},
   "outputs": [],
   "source": [
    "## mv back to original directory where R code is\n",
    "setwd(\"../original\")\n"
   ]
  },
  {
   "cell_type": "code",
   "execution_count": 17,
   "id": "36544c71-19fc-47cd-98a2-071f703fc7de",
   "metadata": {},
   "outputs": [
    {
     "data": {
      "text/html": [
       "'/Users/annedeslattesmays/Scitechcon Dropbox/Anne DeslattesMays/projects/scRNAseq-cell-type/original'"
      ],
      "text/latex": [
       "'/Users/annedeslattesmays/Scitechcon Dropbox/Anne DeslattesMays/projects/scRNAseq-cell-type/original'"
      ],
      "text/markdown": [
       "'/Users/annedeslattesmays/Scitechcon Dropbox/Anne DeslattesMays/projects/scRNAseq-cell-type/original'"
      ],
      "text/plain": [
       "[1] \"/Users/annedeslattesmays/Scitechcon Dropbox/Anne DeslattesMays/projects/scRNAseq-cell-type/original\""
      ]
     },
     "metadata": {},
     "output_type": "display_data"
    }
   ],
   "source": [
    "getwd()"
   ]
  },
  {
   "cell_type": "code",
   "execution_count": 18,
   "id": "8bfacf8a",
   "metadata": {
    "echo": true,
    "message": false,
    "warning": false
   },
   "outputs": [],
   "source": [
    "set.seed(6619)\n",
    "\n",
    "### Preparation for symbol->ENSEMBL conversion\n",
    "Hs_symbol <- org.Hs.egSYMBOL\n",
    "mapped_Hs_genes.symbol <- mappedkeys(Hs_symbol)\n",
    "Hs_symbol.df <- as.data.frame(Hs_symbol[mapped_Hs_genes.symbol])\n",
    "Hs_ensembl <- org.Hs.egENSEMBL\n",
    "mapped_Hs_genes.ensembl <- mappedkeys(Hs_ensembl)\n",
    "Hs_ensembl.df <- as.data.frame(Hs_ensembl[mapped_Hs_genes.ensembl])\n",
    "Hs_mapping <- merge(Hs_symbol.df,Hs_ensembl.df)\n",
    "\n"
   ]
  },
  {
   "cell_type": "code",
   "execution_count": 19,
   "id": "029f66a1-13dd-4390-81b6-28dddbb8235b",
   "metadata": {},
   "outputs": [
    {
     "name": "stderr",
     "output_type": "stream",
     "text": [
      "Warning message in asMethod(object):\n",
      "“sparse->dense coercion: allocating vector of size 2.7 GiB”\n"
     ]
    }
   ],
   "source": [
    "## CD4: https://support.10xgenomics.com/single-cell-gene-expression/datasets/1.1.0/cd4_t_helper? \n",
    "cd4_facs.data <- Read10X(data.dir = \"../data/cd4_singlecell/hg19/\") \n",
    "cd4_facs.data <- as.matrix(cd4_facs.data)\n",
    "rownames(cd4_facs.data) <- Hs_mapping$ensembl_id[match(rownames(cd4_facs.data),\n",
    "                                                       Hs_mapping$symbol)]\n",
    "cd4_facs.data <- cd4_facs.data[!is.na(rownames(cd4_facs.data)),]\n",
    "cd4_facs.data <- na.omit(cd4_facs.data)\n",
    "cd4.test <- cd4_facs.data[,1:100] # CD4 withheld cells\n",
    "cd4_facs.data <- cd4_facs.data[,101:5101] # CD4 training cells"
   ]
  },
  {
   "cell_type": "code",
   "execution_count": 20,
   "id": "def5df0e-af20-42ab-9199-0acc4aa7626f",
   "metadata": {},
   "outputs": [
    {
     "name": "stderr",
     "output_type": "stream",
     "text": [
      "Warning message in asMethod(object):\n",
      "“sparse->dense coercion: allocating vector of size 2.5 GiB”\n"
     ]
    }
   ],
   "source": [
    "## CD8: https://support.10xgenomics.com/single-cell-gene-expression/datasets/1.1.0/cytotoxic_t\n",
    "cd8_facs.data <- Read10X(data.dir = '../data/filtered_matrices_cd8/hg19/')\n",
    "cd8_facs.data <- as.matrix(cd8_facs.data) \n",
    "rownames(cd8_facs.data) <- Hs_mapping$ensembl_id[match(rownames(cd8_facs.data),\n",
    "                                                       Hs_mapping$symbol)]\n",
    "cd8_facs.data <- cd8_facs.data[!is.na(rownames(cd8_facs.data)),]\n",
    "cd8.test <- cd8_facs.data[,1:100] # CD8 withheld cells\n",
    "cd8_facs.data <- cd8_facs.data[,101:5101] # CD8 training cells"
   ]
  },
  {
   "cell_type": "code",
   "execution_count": 21,
   "id": "a4ea162f-c2db-46f9-a415-61739fc5bbeb",
   "metadata": {},
   "outputs": [],
   "source": [
    "## CD14: https://support.10xgenomics.com/single-cell-gene-expression/datasets/1.1.0/cd14_monocytes\n",
    "cd14_facs.data <- Read10X(data.dir = '../data/filtered_matrices_cd14/hg19/')\n",
    "cd14_facs.data <- as.matrix(cd14_facs.data)\n",
    "rownames(cd14_facs.data) <- Hs_mapping$ensembl_id[match(rownames(cd14_facs.data),\n",
    "                                                        Hs_mapping$symbol)]\n",
    "cd14_facs.data <- cd14_facs.data[!is.na(rownames(cd14_facs.data)),]\n",
    "cd14.test <- cd14_facs.data[,1:100] # CD14 withheld cells\n",
    "cd14_facs.data <- cd14_facs.data[,101:ncol(cd14_facs.data)] # CD14 training cells"
   ]
  },
  {
   "cell_type": "code",
   "execution_count": 22,
   "id": "69ce1378-035c-4156-9d84-27bdac1981b0",
   "metadata": {},
   "outputs": [
    {
     "name": "stderr",
     "output_type": "stream",
     "text": [
      "Warning message in asMethod(object):\n",
      "“sparse->dense coercion: allocating vector of size 2.0 GiB”\n"
     ]
    }
   ],
   "source": [
    "## NK: https://support.10xgenomics.com/single-cell-gene-expression/datasets/1.1.0/cd56_nk\n",
    "nk_facs.data <- Read10X(data.dir = '../data/filtered_matrices_nk/hg19/')\n",
    "nk_facs.data <- as.matrix(nk_facs.data)\n",
    "rownames(nk_facs.data) <- Hs_mapping$ensembl_id[match(rownames(nk_facs.data),\n",
    "                                                      Hs_mapping$symbol)]\n",
    "nk_facs.data <- nk_facs.data[!is.na(rownames(nk_facs.data)),]\n",
    "nk.test <- nk_facs.data[,1:100] # NK withheld cells\n",
    "nk_facs.data <- nk_facs.data[,101:5101] # NK training cells"
   ]
  },
  {
   "cell_type": "markdown",
   "id": "018ee0bd",
   "metadata": {},
   "source": [
    "Next, we fit our model to these training data. We combine the training data into a single matrix and call the `trainAllReference` function on this matrix, alongside a vector of cell-type labels. By default, this function will only consider the subset of discriminative genes needed for classification. For now, to illustrate the uses of our method additional to classification, we will consider all genes by setting `discrim_only=FALSE`. (Note that regardless of whether this parameter is set to `TRUE`, as it is by default, or `FALSE`, the classification function will still only use the subset of discriminative genes; setting this parameter to `TRUE` just has the effect of speeding up the training process by only fitting to that set of genes.)"
   ]
  },
  {
   "cell_type": "code",
   "execution_count": 23,
   "id": "a4008102",
   "metadata": {
    "echo": true,
    "message": false,
    "warning": false
   },
   "outputs": [],
   "source": [
    "## Input a single matrix with a vector of labels \n",
    "common_pbmcs_genes <- Reduce(intersect,list(rownames(cd4_facs.data),\n",
    "                                            rownames(cd14_facs.data),\n",
    "                                            rownames(cd8_facs.data),\n",
    "                                            rownames(nk_facs.data)))\n",
    "pbmcs_reference <- as.matrix(cbind(cd4_facs.data[common_pbmcs_genes,],\n",
    "                                   cd14_facs.data[common_pbmcs_genes,],\n",
    "                                   cd8_facs.data[common_pbmcs_genes,],\n",
    "                                   nk_facs.data[common_pbmcs_genes,]))\n",
    "pbmcs_reference_labels <- c(rep('CD4',dim(cd4_facs.data)[2]),rep('CD14',dim(cd14_facs.data)[2]),\n",
    "                            rep('CD8',dim(cd8_facs.data)[2]),rep('NK',dim(nk_facs.data)[2]))\n",
    "pbmcs.d <- trainAllReference(pbmcs_reference,pbmcs_reference_labels,discrim_only=FALSE)"
   ]
  },
  {
   "cell_type": "markdown",
   "id": "02a81240",
   "metadata": {},
   "source": [
    "The list `pbmcs.d` contains one table for each inputted cell-type, which indicates each gene's empirical rate, probability of belonging to the off-low latent state, and probability of belonging to the off-high latent state. This is used as input into the `classifyTarget` function. However, if our goal is to examine each cell-type's barcode, we could pass this list into the `getBarcode` function, which will present the probability that each gene is on in each cell-type. This could then be used beyond the cell-type annotation context to study gene expression within a single cell-type, to compare genes across cell-types, and to identify markers. \n",
    "\n",
    "As an example, we show below how we can find the barcodes for each cell-type, then identify genes with a high probability of being on in NK cells, but a low probability of being on in the others (i.e. potential markers for this cell-type). Finally, we show how we can identify markers for NK cells compared to global patterns of gene expression, rather than the other cell-types under consideration here."
   ]
  },
  {
   "cell_type": "code",
   "execution_count": 24,
   "id": "7cbbf429",
   "metadata": {
    "echo": true,
    "message": false,
    "warning": false
   },
   "outputs": [
    {
     "data": {
      "text/html": [
       "<table class=\"dataframe\">\n",
       "<caption>A matrix: 9 × 4 of type dbl</caption>\n",
       "<thead>\n",
       "\t<tr><th></th><th scope=col>CD4</th><th scope=col>CD14</th><th scope=col>CD8</th><th scope=col>NK</th></tr>\n",
       "</thead>\n",
       "<tbody>\n",
       "\t<tr><th scope=row>ENSG00000143184</th><td>9.081278e-06</td><td>4.207157e-05</td><td>9.364434e-03</td><td>0.9514225</td></tr>\n",
       "\t<tr><th scope=row>ENSG00000117560</th><td>1.706751e-06</td><td>7.434783e-07</td><td>7.677824e-05</td><td>0.9567601</td></tr>\n",
       "\t<tr><th scope=row>ENSG00000115607</th><td>3.217127e-11</td><td>9.485573e-11</td><td>4.448123e-05</td><td>0.9663229</td></tr>\n",
       "\t<tr><th scope=row>ENSG00000180871</th><td>1.819799e-10</td><td>1.760079e-04</td><td>4.004241e-11</td><td>0.9981620</td></tr>\n",
       "\t<tr><th scope=row>ENSG00000171596</th><td>2.231033e-11</td><td>2.469601e-09</td><td>1.743697e-08</td><td>0.9543838</td></tr>\n",
       "\t<tr><th scope=row>ENSG00000086200</th><td>5.870675e-03</td><td>3.012470e-03</td><td>1.469428e-03</td><td>0.9873570</td></tr>\n",
       "\t<tr><th scope=row>ENSG00000104343</th><td>1.407836e-05</td><td>5.085064e-05</td><td>2.060410e-03</td><td>0.9999573</td></tr>\n",
       "\t<tr><th scope=row>ENSG00000150045</th><td>1.326175e-04</td><td>3.719724e-03</td><td>3.599665e-02</td><td>0.9979407</td></tr>\n",
       "\t<tr><th scope=row>ENSG00000240403</th><td>6.416552e-10</td><td>1.023004e-11</td><td>4.178196e-08</td><td>0.9775072</td></tr>\n",
       "</tbody>\n",
       "</table>\n"
      ],
      "text/latex": [
       "A matrix: 9 × 4 of type dbl\n",
       "\\begin{tabular}{r|llll}\n",
       "  & CD4 & CD14 & CD8 & NK\\\\\n",
       "\\hline\n",
       "\tENSG00000143184 & 9.081278e-06 & 4.207157e-05 & 9.364434e-03 & 0.9514225\\\\\n",
       "\tENSG00000117560 & 1.706751e-06 & 7.434783e-07 & 7.677824e-05 & 0.9567601\\\\\n",
       "\tENSG00000115607 & 3.217127e-11 & 9.485573e-11 & 4.448123e-05 & 0.9663229\\\\\n",
       "\tENSG00000180871 & 1.819799e-10 & 1.760079e-04 & 4.004241e-11 & 0.9981620\\\\\n",
       "\tENSG00000171596 & 2.231033e-11 & 2.469601e-09 & 1.743697e-08 & 0.9543838\\\\\n",
       "\tENSG00000086200 & 5.870675e-03 & 3.012470e-03 & 1.469428e-03 & 0.9873570\\\\\n",
       "\tENSG00000104343 & 1.407836e-05 & 5.085064e-05 & 2.060410e-03 & 0.9999573\\\\\n",
       "\tENSG00000150045 & 1.326175e-04 & 3.719724e-03 & 3.599665e-02 & 0.9979407\\\\\n",
       "\tENSG00000240403 & 6.416552e-10 & 1.023004e-11 & 4.178196e-08 & 0.9775072\\\\\n",
       "\\end{tabular}\n"
      ],
      "text/markdown": [
       "\n",
       "A matrix: 9 × 4 of type dbl\n",
       "\n",
       "| <!--/--> | CD4 | CD14 | CD8 | NK |\n",
       "|---|---|---|---|---|\n",
       "| ENSG00000143184 | 9.081278e-06 | 4.207157e-05 | 9.364434e-03 | 0.9514225 |\n",
       "| ENSG00000117560 | 1.706751e-06 | 7.434783e-07 | 7.677824e-05 | 0.9567601 |\n",
       "| ENSG00000115607 | 3.217127e-11 | 9.485573e-11 | 4.448123e-05 | 0.9663229 |\n",
       "| ENSG00000180871 | 1.819799e-10 | 1.760079e-04 | 4.004241e-11 | 0.9981620 |\n",
       "| ENSG00000171596 | 2.231033e-11 | 2.469601e-09 | 1.743697e-08 | 0.9543838 |\n",
       "| ENSG00000086200 | 5.870675e-03 | 3.012470e-03 | 1.469428e-03 | 0.9873570 |\n",
       "| ENSG00000104343 | 1.407836e-05 | 5.085064e-05 | 2.060410e-03 | 0.9999573 |\n",
       "| ENSG00000150045 | 1.326175e-04 | 3.719724e-03 | 3.599665e-02 | 0.9979407 |\n",
       "| ENSG00000240403 | 6.416552e-10 | 1.023004e-11 | 4.178196e-08 | 0.9775072 |\n",
       "\n"
      ],
      "text/plain": [
       "                CD4          CD14         CD8          NK       \n",
       "ENSG00000143184 9.081278e-06 4.207157e-05 9.364434e-03 0.9514225\n",
       "ENSG00000117560 1.706751e-06 7.434783e-07 7.677824e-05 0.9567601\n",
       "ENSG00000115607 3.217127e-11 9.485573e-11 4.448123e-05 0.9663229\n",
       "ENSG00000180871 1.819799e-10 1.760079e-04 4.004241e-11 0.9981620\n",
       "ENSG00000171596 2.231033e-11 2.469601e-09 1.743697e-08 0.9543838\n",
       "ENSG00000086200 5.870675e-03 3.012470e-03 1.469428e-03 0.9873570\n",
       "ENSG00000104343 1.407836e-05 5.085064e-05 2.060410e-03 0.9999573\n",
       "ENSG00000150045 1.326175e-04 3.719724e-03 3.599665e-02 0.9979407\n",
       "ENSG00000240403 6.416552e-10 1.023004e-11 4.178196e-08 0.9775072"
      ]
     },
     "metadata": {},
     "output_type": "display_data"
    },
    {
     "data": {
      "text/html": [
       "<table class=\"dataframe\">\n",
       "<caption>A matrix: 110 × 1 of type dbl</caption>\n",
       "<thead>\n",
       "\t<tr><th></th><th scope=col>NK</th></tr>\n",
       "</thead>\n",
       "<tbody>\n",
       "\t<tr><th scope=row>ENSG00000158062</th><td>0.9999977</td></tr>\n",
       "\t<tr><th scope=row>ENSG00000126088</th><td>1.0000000</td></tr>\n",
       "\t<tr><th scope=row>ENSG00000173660</th><td>1.0000000</td></tr>\n",
       "\t<tr><th scope=row>ENSG00000162402</th><td>0.9994690</td></tr>\n",
       "\t<tr><th scope=row>ENSG00000162607</th><td>1.0000000</td></tr>\n",
       "\t<tr><th scope=row>ENSG00000077254</th><td>1.0000000</td></tr>\n",
       "\t<tr><th scope=row>ENSG00000143569</th><td>1.0000000</td></tr>\n",
       "\t<tr><th scope=row>ENSG00000160714</th><td>1.0000000</td></tr>\n",
       "\t<tr><th scope=row>ENSG00000143222</th><td>1.0000000</td></tr>\n",
       "\t<tr><th scope=row>ENSG00000173960</th><td>1.0000000</td></tr>\n",
       "\t<tr><th scope=row>ENSG00000115464</th><td>1.0000000</td></tr>\n",
       "\t<tr><th scope=row>ENSG00000169764</th><td>1.0000000</td></tr>\n",
       "\t<tr><th scope=row>ENSG00000115446</th><td>1.0000000</td></tr>\n",
       "\t<tr><th scope=row>ENSG00000136731</th><td>0.9995749</td></tr>\n",
       "\t<tr><th scope=row>ENSG00000144224</th><td>1.0000000</td></tr>\n",
       "\t<tr><th scope=row>ENSG00000170035</th><td>1.0000000</td></tr>\n",
       "\t<tr><th scope=row>ENSG00000180871</th><td>0.9981620</td></tr>\n",
       "\t<tr><th scope=row>ENSG00000184182</th><td>1.0000000</td></tr>\n",
       "\t<tr><th scope=row>ENSG00000170142</th><td>1.0000000</td></tr>\n",
       "\t<tr><th scope=row>ENSG00000153560</th><td>0.9994690</td></tr>\n",
       "\t<tr><th scope=row>ENSG00000010256</th><td>1.0000000</td></tr>\n",
       "\t<tr><th scope=row>ENSG00000144744</th><td>1.0000000</td></tr>\n",
       "\t<tr><th scope=row>ENSG00000163714</th><td>1.0000000</td></tr>\n",
       "\t<tr><th scope=row>ENSG00000163960</th><td>0.9974340</td></tr>\n",
       "\t<tr><th scope=row>ENSG00000078140</th><td>1.0000000</td></tr>\n",
       "\t<tr><th scope=row>ENSG00000033178</th><td>1.0000000</td></tr>\n",
       "\t<tr><th scope=row>ENSG00000138768</th><td>1.0000000</td></tr>\n",
       "\t<tr><th scope=row>ENSG00000145337</th><td>0.9916580</td></tr>\n",
       "\t<tr><th scope=row>ENSG00000109332</th><td>1.0000000</td></tr>\n",
       "\t<tr><th scope=row>ENSG00000164405</th><td>1.0000000</td></tr>\n",
       "\t<tr><th scope=row>⋮</th><td>⋮</td></tr>\n",
       "\t<tr><th scope=row>ENSG00000103275</th><td>1.0000000</td></tr>\n",
       "\t<tr><th scope=row>ENSG00000187555</th><td>0.9999702</td></tr>\n",
       "\t<tr><th scope=row>ENSG00000182108</th><td>0.9999974</td></tr>\n",
       "\t<tr><th scope=row>ENSG00000140740</th><td>1.0000000</td></tr>\n",
       "\t<tr><th scope=row>ENSG00000103353</th><td>0.9999486</td></tr>\n",
       "\t<tr><th scope=row>ENSG00000103005</th><td>1.0000000</td></tr>\n",
       "\t<tr><th scope=row>ENSG00000103194</th><td>0.9999997</td></tr>\n",
       "\t<tr><th scope=row>ENSG00000132388</th><td>1.0000000</td></tr>\n",
       "\t<tr><th scope=row>ENSG00000124422</th><td>1.0000000</td></tr>\n",
       "\t<tr><th scope=row>ENSG00000109103</th><td>1.0000000</td></tr>\n",
       "\t<tr><th scope=row>ENSG00000159202</th><td>1.0000000</td></tr>\n",
       "\t<tr><th scope=row>ENSG00000108622</th><td>1.0000000</td></tr>\n",
       "\t<tr><th scope=row>ENSG00000132478</th><td>1.0000000</td></tr>\n",
       "\t<tr><th scope=row>ENSG00000257949</th><td>0.9976977</td></tr>\n",
       "\t<tr><th scope=row>ENSG00000101557</th><td>1.0000000</td></tr>\n",
       "\t<tr><th scope=row>ENSG00000265681</th><td>1.0000000</td></tr>\n",
       "\t<tr><th scope=row>ENSG00000198258</th><td>1.0000000</td></tr>\n",
       "\t<tr><th scope=row>ENSG00000076662</th><td>0.9999917</td></tr>\n",
       "\t<tr><th scope=row>ENSG00000221983</th><td>1.0000000</td></tr>\n",
       "\t<tr><th scope=row>ENSG00000169021</th><td>1.0000000</td></tr>\n",
       "\t<tr><th scope=row>ENSG00000105176</th><td>1.0000000</td></tr>\n",
       "\t<tr><th scope=row>ENSG00000126261</th><td>1.0000000</td></tr>\n",
       "\t<tr><th scope=row>ENSG00000105698</th><td>1.0000000</td></tr>\n",
       "\t<tr><th scope=row>ENSG00000167578</th><td>1.0000000</td></tr>\n",
       "\t<tr><th scope=row>ENSG00000185651</th><td>1.0000000</td></tr>\n",
       "\t<tr><th scope=row>ENSG00000240972</th><td>1.0000000</td></tr>\n",
       "\t<tr><th scope=row>ENSG00000184076</th><td>1.0000000</td></tr>\n",
       "\t<tr><th scope=row>ENSG00000156256</th><td>1.0000000</td></tr>\n",
       "\t<tr><th scope=row>ENSG00000160201</th><td>0.9999999</td></tr>\n",
       "\t<tr><th scope=row>ENSG00000184787</th><td>1.0000000</td></tr>\n",
       "</tbody>\n",
       "</table>\n"
      ],
      "text/latex": [
       "A matrix: 110 × 1 of type dbl\n",
       "\\begin{tabular}{r|l}\n",
       "  & NK\\\\\n",
       "\\hline\n",
       "\tENSG00000158062 & 0.9999977\\\\\n",
       "\tENSG00000126088 & 1.0000000\\\\\n",
       "\tENSG00000173660 & 1.0000000\\\\\n",
       "\tENSG00000162402 & 0.9994690\\\\\n",
       "\tENSG00000162607 & 1.0000000\\\\\n",
       "\tENSG00000077254 & 1.0000000\\\\\n",
       "\tENSG00000143569 & 1.0000000\\\\\n",
       "\tENSG00000160714 & 1.0000000\\\\\n",
       "\tENSG00000143222 & 1.0000000\\\\\n",
       "\tENSG00000173960 & 1.0000000\\\\\n",
       "\tENSG00000115464 & 1.0000000\\\\\n",
       "\tENSG00000169764 & 1.0000000\\\\\n",
       "\tENSG00000115446 & 1.0000000\\\\\n",
       "\tENSG00000136731 & 0.9995749\\\\\n",
       "\tENSG00000144224 & 1.0000000\\\\\n",
       "\tENSG00000170035 & 1.0000000\\\\\n",
       "\tENSG00000180871 & 0.9981620\\\\\n",
       "\tENSG00000184182 & 1.0000000\\\\\n",
       "\tENSG00000170142 & 1.0000000\\\\\n",
       "\tENSG00000153560 & 0.9994690\\\\\n",
       "\tENSG00000010256 & 1.0000000\\\\\n",
       "\tENSG00000144744 & 1.0000000\\\\\n",
       "\tENSG00000163714 & 1.0000000\\\\\n",
       "\tENSG00000163960 & 0.9974340\\\\\n",
       "\tENSG00000078140 & 1.0000000\\\\\n",
       "\tENSG00000033178 & 1.0000000\\\\\n",
       "\tENSG00000138768 & 1.0000000\\\\\n",
       "\tENSG00000145337 & 0.9916580\\\\\n",
       "\tENSG00000109332 & 1.0000000\\\\\n",
       "\tENSG00000164405 & 1.0000000\\\\\n",
       "\t⋮ & ⋮\\\\\n",
       "\tENSG00000103275 & 1.0000000\\\\\n",
       "\tENSG00000187555 & 0.9999702\\\\\n",
       "\tENSG00000182108 & 0.9999974\\\\\n",
       "\tENSG00000140740 & 1.0000000\\\\\n",
       "\tENSG00000103353 & 0.9999486\\\\\n",
       "\tENSG00000103005 & 1.0000000\\\\\n",
       "\tENSG00000103194 & 0.9999997\\\\\n",
       "\tENSG00000132388 & 1.0000000\\\\\n",
       "\tENSG00000124422 & 1.0000000\\\\\n",
       "\tENSG00000109103 & 1.0000000\\\\\n",
       "\tENSG00000159202 & 1.0000000\\\\\n",
       "\tENSG00000108622 & 1.0000000\\\\\n",
       "\tENSG00000132478 & 1.0000000\\\\\n",
       "\tENSG00000257949 & 0.9976977\\\\\n",
       "\tENSG00000101557 & 1.0000000\\\\\n",
       "\tENSG00000265681 & 1.0000000\\\\\n",
       "\tENSG00000198258 & 1.0000000\\\\\n",
       "\tENSG00000076662 & 0.9999917\\\\\n",
       "\tENSG00000221983 & 1.0000000\\\\\n",
       "\tENSG00000169021 & 1.0000000\\\\\n",
       "\tENSG00000105176 & 1.0000000\\\\\n",
       "\tENSG00000126261 & 1.0000000\\\\\n",
       "\tENSG00000105698 & 1.0000000\\\\\n",
       "\tENSG00000167578 & 1.0000000\\\\\n",
       "\tENSG00000185651 & 1.0000000\\\\\n",
       "\tENSG00000240972 & 1.0000000\\\\\n",
       "\tENSG00000184076 & 1.0000000\\\\\n",
       "\tENSG00000156256 & 1.0000000\\\\\n",
       "\tENSG00000160201 & 0.9999999\\\\\n",
       "\tENSG00000184787 & 1.0000000\\\\\n",
       "\\end{tabular}\n"
      ],
      "text/markdown": [
       "\n",
       "A matrix: 110 × 1 of type dbl\n",
       "\n",
       "| <!--/--> | NK |\n",
       "|---|---|\n",
       "| ENSG00000158062 | 0.9999977 |\n",
       "| ENSG00000126088 | 1.0000000 |\n",
       "| ENSG00000173660 | 1.0000000 |\n",
       "| ENSG00000162402 | 0.9994690 |\n",
       "| ENSG00000162607 | 1.0000000 |\n",
       "| ENSG00000077254 | 1.0000000 |\n",
       "| ENSG00000143569 | 1.0000000 |\n",
       "| ENSG00000160714 | 1.0000000 |\n",
       "| ENSG00000143222 | 1.0000000 |\n",
       "| ENSG00000173960 | 1.0000000 |\n",
       "| ENSG00000115464 | 1.0000000 |\n",
       "| ENSG00000169764 | 1.0000000 |\n",
       "| ENSG00000115446 | 1.0000000 |\n",
       "| ENSG00000136731 | 0.9995749 |\n",
       "| ENSG00000144224 | 1.0000000 |\n",
       "| ENSG00000170035 | 1.0000000 |\n",
       "| ENSG00000180871 | 0.9981620 |\n",
       "| ENSG00000184182 | 1.0000000 |\n",
       "| ENSG00000170142 | 1.0000000 |\n",
       "| ENSG00000153560 | 0.9994690 |\n",
       "| ENSG00000010256 | 1.0000000 |\n",
       "| ENSG00000144744 | 1.0000000 |\n",
       "| ENSG00000163714 | 1.0000000 |\n",
       "| ENSG00000163960 | 0.9974340 |\n",
       "| ENSG00000078140 | 1.0000000 |\n",
       "| ENSG00000033178 | 1.0000000 |\n",
       "| ENSG00000138768 | 1.0000000 |\n",
       "| ENSG00000145337 | 0.9916580 |\n",
       "| ENSG00000109332 | 1.0000000 |\n",
       "| ENSG00000164405 | 1.0000000 |\n",
       "| ⋮ | ⋮ |\n",
       "| ENSG00000103275 | 1.0000000 |\n",
       "| ENSG00000187555 | 0.9999702 |\n",
       "| ENSG00000182108 | 0.9999974 |\n",
       "| ENSG00000140740 | 1.0000000 |\n",
       "| ENSG00000103353 | 0.9999486 |\n",
       "| ENSG00000103005 | 1.0000000 |\n",
       "| ENSG00000103194 | 0.9999997 |\n",
       "| ENSG00000132388 | 1.0000000 |\n",
       "| ENSG00000124422 | 1.0000000 |\n",
       "| ENSG00000109103 | 1.0000000 |\n",
       "| ENSG00000159202 | 1.0000000 |\n",
       "| ENSG00000108622 | 1.0000000 |\n",
       "| ENSG00000132478 | 1.0000000 |\n",
       "| ENSG00000257949 | 0.9976977 |\n",
       "| ENSG00000101557 | 1.0000000 |\n",
       "| ENSG00000265681 | 1.0000000 |\n",
       "| ENSG00000198258 | 1.0000000 |\n",
       "| ENSG00000076662 | 0.9999917 |\n",
       "| ENSG00000221983 | 1.0000000 |\n",
       "| ENSG00000169021 | 1.0000000 |\n",
       "| ENSG00000105176 | 1.0000000 |\n",
       "| ENSG00000126261 | 1.0000000 |\n",
       "| ENSG00000105698 | 1.0000000 |\n",
       "| ENSG00000167578 | 1.0000000 |\n",
       "| ENSG00000185651 | 1.0000000 |\n",
       "| ENSG00000240972 | 1.0000000 |\n",
       "| ENSG00000184076 | 1.0000000 |\n",
       "| ENSG00000156256 | 1.0000000 |\n",
       "| ENSG00000160201 | 0.9999999 |\n",
       "| ENSG00000184787 | 1.0000000 |\n",
       "\n"
      ],
      "text/plain": [
       "                NK       \n",
       "ENSG00000158062 0.9999977\n",
       "ENSG00000126088 1.0000000\n",
       "ENSG00000173660 1.0000000\n",
       "ENSG00000162402 0.9994690\n",
       "ENSG00000162607 1.0000000\n",
       "ENSG00000077254 1.0000000\n",
       "ENSG00000143569 1.0000000\n",
       "ENSG00000160714 1.0000000\n",
       "ENSG00000143222 1.0000000\n",
       "ENSG00000173960 1.0000000\n",
       "ENSG00000115464 1.0000000\n",
       "ENSG00000169764 1.0000000\n",
       "ENSG00000115446 1.0000000\n",
       "ENSG00000136731 0.9995749\n",
       "ENSG00000144224 1.0000000\n",
       "ENSG00000170035 1.0000000\n",
       "ENSG00000180871 0.9981620\n",
       "ENSG00000184182 1.0000000\n",
       "ENSG00000170142 1.0000000\n",
       "ENSG00000153560 0.9994690\n",
       "ENSG00000010256 1.0000000\n",
       "ENSG00000144744 1.0000000\n",
       "ENSG00000163714 1.0000000\n",
       "ENSG00000163960 0.9974340\n",
       "ENSG00000078140 1.0000000\n",
       "ENSG00000033178 1.0000000\n",
       "ENSG00000138768 1.0000000\n",
       "ENSG00000145337 0.9916580\n",
       "ENSG00000109332 1.0000000\n",
       "ENSG00000164405 1.0000000\n",
       "⋮               ⋮        \n",
       "ENSG00000103275 1.0000000\n",
       "ENSG00000187555 0.9999702\n",
       "ENSG00000182108 0.9999974\n",
       "ENSG00000140740 1.0000000\n",
       "ENSG00000103353 0.9999486\n",
       "ENSG00000103005 1.0000000\n",
       "ENSG00000103194 0.9999997\n",
       "ENSG00000132388 1.0000000\n",
       "ENSG00000124422 1.0000000\n",
       "ENSG00000109103 1.0000000\n",
       "ENSG00000159202 1.0000000\n",
       "ENSG00000108622 1.0000000\n",
       "ENSG00000132478 1.0000000\n",
       "ENSG00000257949 0.9976977\n",
       "ENSG00000101557 1.0000000\n",
       "ENSG00000265681 1.0000000\n",
       "ENSG00000198258 1.0000000\n",
       "ENSG00000076662 0.9999917\n",
       "ENSG00000221983 1.0000000\n",
       "ENSG00000169021 1.0000000\n",
       "ENSG00000105176 1.0000000\n",
       "ENSG00000126261 1.0000000\n",
       "ENSG00000105698 1.0000000\n",
       "ENSG00000167578 1.0000000\n",
       "ENSG00000185651 1.0000000\n",
       "ENSG00000240972 1.0000000\n",
       "ENSG00000184076 1.0000000\n",
       "ENSG00000156256 1.0000000\n",
       "ENSG00000160201 0.9999999\n",
       "ENSG00000184787 1.0000000"
      ]
     },
     "metadata": {},
     "output_type": "display_data"
    }
   ],
   "source": [
    "## Obtain barcodes\n",
    "barcodes <- getBarcode(pbmcs.d)\n",
    "\n",
    "## Identify genes likely to be on in NK cells, but likely to be off in the others\n",
    "findMarkers('NK',barcodes,thresh_up=0.95,thresh_below=0.05)\n",
    "\n",
    "## Identify genes likely to be on in NK cells, and not in global patterns \n",
    "findMarkers('NK',barcodes,thresh_up=0.99,thresh_below=0.01,relative=F)"
   ]
  },
  {
   "cell_type": "markdown",
   "id": "2fd2c11d",
   "metadata": {},
   "source": [
    "Finally, we can use the original object `pbmcs.d` to annotate our withheld test cells, which should be placed in a single matrix. If we want the possibility of detecting cells that do not belong to any of the cell-types in the reference, we can set `other=T`. Further, we can specify `return.probs=T` if we want a matrix of probabilistic assignments rather than just a vector of highest-probability cell-type labels. We show both below:"
   ]
  },
  {
   "cell_type": "code",
   "execution_count": 25,
   "id": "7c6c55a9",
   "metadata": {
    "echo": true,
    "message": false,
    "warning": false
   },
   "outputs": [
    {
     "data": {
      "text/plain": [
       "          true_labels\n",
       "annotation CD14 CD4 CD8 NK\n",
       "      CD14   99   0   0  0\n",
       "      CD4     0  94   4  0\n",
       "      CD8     1   6  96  1\n",
       "      NK      0   0   0 99"
      ]
     },
     "metadata": {},
     "output_type": "display_data"
    },
    {
     "data": {
      "text/html": [
       "<table class=\"dataframe\">\n",
       "<caption>A matrix: 6 × 5 of type dbl</caption>\n",
       "<thead>\n",
       "\t<tr><th scope=col>CD4</th><th scope=col>CD14</th><th scope=col>CD8</th><th scope=col>NK</th><th scope=col>other</th></tr>\n",
       "</thead>\n",
       "<tbody>\n",
       "\t<tr><td>1.00</td><td>0</td><td>0.00</td><td>0</td><td>0</td></tr>\n",
       "\t<tr><td>0.98</td><td>0</td><td>0.02</td><td>0</td><td>0</td></tr>\n",
       "\t<tr><td>0.94</td><td>0</td><td>0.06</td><td>0</td><td>0</td></tr>\n",
       "\t<tr><td>0.50</td><td>0</td><td>0.50</td><td>0</td><td>0</td></tr>\n",
       "\t<tr><td>0.14</td><td>0</td><td>0.86</td><td>0</td><td>0</td></tr>\n",
       "\t<tr><td>0.98</td><td>0</td><td>0.02</td><td>0</td><td>0</td></tr>\n",
       "</tbody>\n",
       "</table>\n"
      ],
      "text/latex": [
       "A matrix: 6 × 5 of type dbl\n",
       "\\begin{tabular}{lllll}\n",
       " CD4 & CD14 & CD8 & NK & other\\\\\n",
       "\\hline\n",
       "\t 1.00 & 0 & 0.00 & 0 & 0\\\\\n",
       "\t 0.98 & 0 & 0.02 & 0 & 0\\\\\n",
       "\t 0.94 & 0 & 0.06 & 0 & 0\\\\\n",
       "\t 0.50 & 0 & 0.50 & 0 & 0\\\\\n",
       "\t 0.14 & 0 & 0.86 & 0 & 0\\\\\n",
       "\t 0.98 & 0 & 0.02 & 0 & 0\\\\\n",
       "\\end{tabular}\n"
      ],
      "text/markdown": [
       "\n",
       "A matrix: 6 × 5 of type dbl\n",
       "\n",
       "| CD4 | CD14 | CD8 | NK | other |\n",
       "|---|---|---|---|---|\n",
       "| 1.00 | 0 | 0.00 | 0 | 0 |\n",
       "| 0.98 | 0 | 0.02 | 0 | 0 |\n",
       "| 0.94 | 0 | 0.06 | 0 | 0 |\n",
       "| 0.50 | 0 | 0.50 | 0 | 0 |\n",
       "| 0.14 | 0 | 0.86 | 0 | 0 |\n",
       "| 0.98 | 0 | 0.02 | 0 | 0 |\n",
       "\n"
      ],
      "text/plain": [
       "     CD4  CD14 CD8  NK other\n",
       "[1,] 1.00 0    0.00 0  0    \n",
       "[2,] 0.98 0    0.02 0  0    \n",
       "[3,] 0.94 0    0.06 0  0    \n",
       "[4,] 0.50 0    0.50 0  0    \n",
       "[5,] 0.14 0    0.86 0  0    \n",
       "[6,] 0.98 0    0.02 0  0    "
      ]
     },
     "metadata": {},
     "output_type": "display_data"
    }
   ],
   "source": [
    "## Put withheld test cells in one matrix\n",
    "pbmcs_withheld <- as.matrix(cbind(cd4.test[common_pbmcs_genes,],\n",
    "                                  cd14.test[common_pbmcs_genes,],\n",
    "                                    cd8.test[common_pbmcs_genes,],\n",
    "                                  nk.test[common_pbmcs_genes,]))\n",
    "true_labels <- c(rep('CD4',100),rep('CD14',100),rep('CD8',100),rep('NK',100))\n",
    "\n",
    "## Annotate!\n",
    "annotation <- classifyTarget(pbmcs_withheld,pbmcs.d,other=T)\n",
    "table(annotation,true_labels)\n",
    "\n",
    "## Return probabilistic assignments instead\n",
    "probabilistic_annotation <- classifyTarget(pbmcs_withheld,pbmcs.d,other=T,\n",
    "                                           return.probs=T)\n",
    "head(round(probabilistic_annotation,2))"
   ]
  },
  {
   "cell_type": "code",
   "execution_count": 26,
   "id": "9d6da391-de60-4b1e-9c64-33a6cb9fc279",
   "metadata": {},
   "outputs": [
    {
     "data": {
      "text/html": [
       "<style>\n",
       ".list-inline {list-style: none; margin:0; padding: 0}\n",
       ".list-inline>li {display: inline-block}\n",
       ".list-inline>li:not(:last-child)::after {content: \"\\00b7\"; padding: 0 .5ex}\n",
       "</style>\n",
       "<ol class=list-inline><li>18573</li><li>4</li></ol>\n"
      ],
      "text/latex": [
       "\\begin{enumerate*}\n",
       "\\item 18573\n",
       "\\item 4\n",
       "\\end{enumerate*}\n"
      ],
      "text/markdown": [
       "1. 18573\n",
       "2. 4\n",
       "\n",
       "\n"
      ],
      "text/plain": [
       "[1] 18573     4"
      ]
     },
     "metadata": {},
     "output_type": "display_data"
    },
    {
     "data": {
      "text/html": [
       "<table class=\"dataframe\">\n",
       "<caption>A matrix: 10 × 4 of type dbl</caption>\n",
       "<thead>\n",
       "\t<tr><th></th><th scope=col>CD4</th><th scope=col>CD14</th><th scope=col>CD8</th><th scope=col>NK</th></tr>\n",
       "</thead>\n",
       "<tbody>\n",
       "\t<tr><th scope=row>ENSG00000237613</th><td>2.064321e-16</td><td>2.255141e-16</td><td>1.925543e-16</td><td>1.656661e-16</td></tr>\n",
       "\t<tr><th scope=row>ENSG00000186092</th><td>1.942283e-14</td><td>1.897441e-14</td><td>1.993978e-14</td><td>1.989468e-14</td></tr>\n",
       "\t<tr><th scope=row>ENSG00000284662</th><td>1.943844e-14</td><td>1.915829e-14</td><td>1.997881e-14</td><td>2.009157e-14</td></tr>\n",
       "\t<tr><th scope=row>ENSG00000177757</th><td>8.556509e-10</td><td>7.015680e-10</td><td>9.125983e-10</td><td>9.090474e-10</td></tr>\n",
       "\t<tr><th scope=row>ENSG00000230368</th><td>2.784804e-13</td><td>2.089162e-13</td><td>1.534398e-13</td><td>6.531997e-13</td></tr>\n",
       "\t<tr><th scope=row>ENSG00000187634</th><td>5.668630e-09</td><td>4.952028e-06</td><td>1.043756e-10</td><td>1.144851e-10</td></tr>\n",
       "\t<tr><th scope=row>ENSG00000188976</th><td>2.131254e-08</td><td>2.690179e-08</td><td>9.956885e-09</td><td>1.427331e-08</td></tr>\n",
       "\t<tr><th scope=row>ENSG00000187961</th><td>5.764123e-08</td><td>4.637252e-05</td><td>4.626105e-07</td><td>4.097974e-06</td></tr>\n",
       "\t<tr><th scope=row>ENSG00000187583</th><td>3.200113e-08</td><td>3.583235e-08</td><td>5.886827e-10</td><td>1.100284e-11</td></tr>\n",
       "\t<tr><th scope=row>ENSG00000188290</th><td>6.420500e-04</td><td>6.712186e-01</td><td>8.765021e-04</td><td>1.310125e-03</td></tr>\n",
       "</tbody>\n",
       "</table>\n"
      ],
      "text/latex": [
       "A matrix: 10 × 4 of type dbl\n",
       "\\begin{tabular}{r|llll}\n",
       "  & CD4 & CD14 & CD8 & NK\\\\\n",
       "\\hline\n",
       "\tENSG00000237613 & 2.064321e-16 & 2.255141e-16 & 1.925543e-16 & 1.656661e-16\\\\\n",
       "\tENSG00000186092 & 1.942283e-14 & 1.897441e-14 & 1.993978e-14 & 1.989468e-14\\\\\n",
       "\tENSG00000284662 & 1.943844e-14 & 1.915829e-14 & 1.997881e-14 & 2.009157e-14\\\\\n",
       "\tENSG00000177757 & 8.556509e-10 & 7.015680e-10 & 9.125983e-10 & 9.090474e-10\\\\\n",
       "\tENSG00000230368 & 2.784804e-13 & 2.089162e-13 & 1.534398e-13 & 6.531997e-13\\\\\n",
       "\tENSG00000187634 & 5.668630e-09 & 4.952028e-06 & 1.043756e-10 & 1.144851e-10\\\\\n",
       "\tENSG00000188976 & 2.131254e-08 & 2.690179e-08 & 9.956885e-09 & 1.427331e-08\\\\\n",
       "\tENSG00000187961 & 5.764123e-08 & 4.637252e-05 & 4.626105e-07 & 4.097974e-06\\\\\n",
       "\tENSG00000187583 & 3.200113e-08 & 3.583235e-08 & 5.886827e-10 & 1.100284e-11\\\\\n",
       "\tENSG00000188290 & 6.420500e-04 & 6.712186e-01 & 8.765021e-04 & 1.310125e-03\\\\\n",
       "\\end{tabular}\n"
      ],
      "text/markdown": [
       "\n",
       "A matrix: 10 × 4 of type dbl\n",
       "\n",
       "| <!--/--> | CD4 | CD14 | CD8 | NK |\n",
       "|---|---|---|---|---|\n",
       "| ENSG00000237613 | 2.064321e-16 | 2.255141e-16 | 1.925543e-16 | 1.656661e-16 |\n",
       "| ENSG00000186092 | 1.942283e-14 | 1.897441e-14 | 1.993978e-14 | 1.989468e-14 |\n",
       "| ENSG00000284662 | 1.943844e-14 | 1.915829e-14 | 1.997881e-14 | 2.009157e-14 |\n",
       "| ENSG00000177757 | 8.556509e-10 | 7.015680e-10 | 9.125983e-10 | 9.090474e-10 |\n",
       "| ENSG00000230368 | 2.784804e-13 | 2.089162e-13 | 1.534398e-13 | 6.531997e-13 |\n",
       "| ENSG00000187634 | 5.668630e-09 | 4.952028e-06 | 1.043756e-10 | 1.144851e-10 |\n",
       "| ENSG00000188976 | 2.131254e-08 | 2.690179e-08 | 9.956885e-09 | 1.427331e-08 |\n",
       "| ENSG00000187961 | 5.764123e-08 | 4.637252e-05 | 4.626105e-07 | 4.097974e-06 |\n",
       "| ENSG00000187583 | 3.200113e-08 | 3.583235e-08 | 5.886827e-10 | 1.100284e-11 |\n",
       "| ENSG00000188290 | 6.420500e-04 | 6.712186e-01 | 8.765021e-04 | 1.310125e-03 |\n",
       "\n"
      ],
      "text/plain": [
       "                CD4          CD14         CD8          NK          \n",
       "ENSG00000237613 2.064321e-16 2.255141e-16 1.925543e-16 1.656661e-16\n",
       "ENSG00000186092 1.942283e-14 1.897441e-14 1.993978e-14 1.989468e-14\n",
       "ENSG00000284662 1.943844e-14 1.915829e-14 1.997881e-14 2.009157e-14\n",
       "ENSG00000177757 8.556509e-10 7.015680e-10 9.125983e-10 9.090474e-10\n",
       "ENSG00000230368 2.784804e-13 2.089162e-13 1.534398e-13 6.531997e-13\n",
       "ENSG00000187634 5.668630e-09 4.952028e-06 1.043756e-10 1.144851e-10\n",
       "ENSG00000188976 2.131254e-08 2.690179e-08 9.956885e-09 1.427331e-08\n",
       "ENSG00000187961 5.764123e-08 4.637252e-05 4.626105e-07 4.097974e-06\n",
       "ENSG00000187583 3.200113e-08 3.583235e-08 5.886827e-10 1.100284e-11\n",
       "ENSG00000188290 6.420500e-04 6.712186e-01 8.765021e-04 1.310125e-03"
      ]
     },
     "metadata": {},
     "output_type": "display_data"
    }
   ],
   "source": [
    "dim(barcodes) \n",
    "head(barcodes,10)\n"
   ]
  },
  {
   "cell_type": "code",
   "execution_count": null,
   "id": "2816a67a-0b84-4a7c-baf2-5c609738e751",
   "metadata": {},
   "outputs": [],
   "source": []
  }
 ],
 "metadata": {
  "jupytext": {
   "cell_metadata_filter": "message,warning,echo,-all",
   "main_language": "R",
   "notebook_metadata_filter": "-all"
  },
  "kernelspec": {
   "display_name": "R",
   "language": "R",
   "name": "ir"
  },
  "language_info": {
   "codemirror_mode": "r",
   "file_extension": ".r",
   "mimetype": "text/x-r-source",
   "name": "R",
   "pygments_lexer": "r",
   "version": "4.4.1"
  }
 },
 "nbformat": 4,
 "nbformat_minor": 5
}
